{
 "cells": [
  {
   "cell_type": "code",
   "execution_count": 2,
   "id": "bee62bc0",
   "metadata": {},
   "outputs": [],
   "source": [
    "import pandas as pd\n",
    "import numpy as np\n",
    "import matplotlib.pyplot as plt"
   ]
  },
  {
   "cell_type": "code",
   "execution_count": 3,
   "id": "2a58adc8",
   "metadata": {},
   "outputs": [],
   "source": [
    "df = pd.read_csv('reverb_aggregated.csv')"
   ]
  },
  {
   "cell_type": "code",
   "execution_count": 12,
   "id": "0cd402af",
   "metadata": {},
   "outputs": [],
   "source": [
    "import duckdb"
   ]
  },
  {
   "cell_type": "code",
   "execution_count": 14,
   "id": "9535ef61",
   "metadata": {},
   "outputs": [],
   "source": [
    "df['dct'] = df['param_dict'].apply(eval)"
   ]
  },
  {
   "cell_type": "code",
   "execution_count": 25,
   "id": "9ff9f4ef",
   "metadata": {},
   "outputs": [
    {
     "data": {
      "text/plain": [
       "33"
      ]
     },
     "execution_count": 25,
     "metadata": {},
     "output_type": "execute_result"
    }
   ],
   "source": [
    "df.dct.apply(lambda x: x.keys()).explode().nunique()"
   ]
  },
  {
   "cell_type": "code",
   "execution_count": 26,
   "id": "54c56a71",
   "metadata": {},
   "outputs": [],
   "source": [
    "df['k'] = df.dct.apply(lambda x: x.keys())"
   ]
  },
  {
   "cell_type": "markdown",
   "id": "b2fada81",
   "metadata": {},
   "source": [
    "# Вспомнить на перерыве"
   ]
  },
  {
   "cell_type": "code",
   "execution_count": 29,
   "id": "5802ae3a",
   "metadata": {},
   "outputs": [
    {
     "ename": "CatalogException",
     "evalue": "Catalog Error: Scalar Function with name explode does not exist!\nDid you mean \"exp\"?",
     "output_type": "error",
     "traceback": [
      "\u001b[0;31m---------------------------------------------------------------------------\u001b[0m",
      "\u001b[0;31mCatalogException\u001b[0m                          Traceback (most recent call last)",
      "Cell \u001b[0;32mIn[29], line 9\u001b[0m\n\u001b[1;32m      1\u001b[0m q \u001b[38;5;241m=\u001b[39m \u001b[38;5;124m'''\u001b[39m\n\u001b[1;32m      2\u001b[0m \n\u001b[1;32m      3\u001b[0m \u001b[38;5;124mSELECT explode(k)\u001b[39m\n\u001b[0;32m   (...)\u001b[0m\n\u001b[1;32m      6\u001b[0m \n\u001b[1;32m      7\u001b[0m \u001b[38;5;124m'''\u001b[39m\n\u001b[0;32m----> 9\u001b[0m duckdb\u001b[38;5;241m.\u001b[39mquery(q)\u001b[38;5;241m.\u001b[39mto_df()\n",
      "\u001b[0;31mCatalogException\u001b[0m: Catalog Error: Scalar Function with name explode does not exist!\nDid you mean \"exp\"?"
     ]
    }
   ],
   "source": [
    "q = '''\n",
    "\n",
    "SELECT explode(k)\n",
    "FROM df\n",
    "LIMIT 10\n",
    "\n",
    "'''\n",
    "\n",
    "duckdb.query(q).to_df()"
   ]
  },
  {
   "cell_type": "markdown",
   "id": "2aa302fe",
   "metadata": {},
   "source": [
    "# что влияет на цену и почему?"
   ]
  },
  {
   "cell_type": "code",
   "execution_count": null,
   "id": "1f99d8c3",
   "metadata": {},
   "outputs": [],
   "source": []
  }
 ],
 "metadata": {
  "kernelspec": {
   "display_name": "Python 3 (ipykernel)",
   "language": "python",
   "name": "python3"
  },
  "language_info": {
   "codemirror_mode": {
    "name": "ipython",
    "version": 3
   },
   "file_extension": ".py",
   "mimetype": "text/x-python",
   "name": "python",
   "nbconvert_exporter": "python",
   "pygments_lexer": "ipython3",
   "version": "3.11.8"
  }
 },
 "nbformat": 4,
 "nbformat_minor": 5
}

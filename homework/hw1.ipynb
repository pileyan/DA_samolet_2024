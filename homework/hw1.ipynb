{
 "cells": [
  {
   "cell_type": "markdown",
   "id": "adee9cd7",
   "metadata": {},
   "source": [
    "# Немного о многоруких бандитах\n",
    "\n",
    "В ноутбуке про многоруких бандитов мы разбирали классы для реализации отдельных стратегий решения задачки. Реализуйте в той же парадигме стратегии [exp3](https://jamesrledoux.com/algorithms/bandit-algorithms-epsilon-ucb-exp-python/) и [softmax](https://gibberblot.github.io/rl-notes/single-agent/multi-armed-bandits.html) стратегии. Да, вы не ошиблись, они уже сделаны, надо понять, как оно работает и сделать так, чтобы оно работало в использованной нами конфигурации)\n",
    "\n",
    "В конце концов, вы ж на работе тоже нон-стоп гуглите)\n"
   ]
  },
  {
   "cell_type": "code",
   "execution_count": null,
   "id": "bf106f75",
   "metadata": {},
   "outputs": [],
   "source": []
  },
  {
   "cell_type": "code",
   "execution_count": null,
   "id": "c7411e7c",
   "metadata": {},
   "outputs": [],
   "source": []
  },
  {
   "cell_type": "markdown",
   "id": "19b5d5c3",
   "metadata": {},
   "source": [
    "# Про анализ данных\n",
    "\n",
    "Дан файл [reverb_aggregated.csv](https://github.com/pileyan/DA_samolet_2024/blob/master/lect2.%20Approx.%20quantiles.%20DA%20example.%20LinAlg%20example/reverb_aggregated.csv), используя доступные вам методы анализа данных провести исследование и ответить на вопрос \"что влияет на цену инструмента\""
   ]
  },
  {
   "cell_type": "code",
   "execution_count": null,
   "id": "8a61f61e",
   "metadata": {},
   "outputs": [],
   "source": []
  }
 ],
 "metadata": {
  "kernelspec": {
   "display_name": "Python 3 (ipykernel)",
   "language": "python",
   "name": "python3"
  },
  "language_info": {
   "codemirror_mode": {
    "name": "ipython",
    "version": 3
   },
   "file_extension": ".py",
   "mimetype": "text/x-python",
   "name": "python",
   "nbconvert_exporter": "python",
   "pygments_lexer": "ipython3",
   "version": "3.11.8"
  }
 },
 "nbformat": 4,
 "nbformat_minor": 5
}

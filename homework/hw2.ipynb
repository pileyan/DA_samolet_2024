{
 "cells": [
  {
   "cell_type": "markdown",
   "id": "af14e30c",
   "metadata": {},
   "source": [
    "# Перемешанные фотографии\n",
    "\n",
    "Возьмите [здесь](https://www.kaggle.com/datasets/amitsharma11jan/caltech-101/data) данные) Дальше ковыряться будем с ними :)\n",
    "\n",
    "Представим, что у вас они теперь лежат в папке, которая называется **101_ObjectCategories**"
   ]
  },
  {
   "cell_type": "code",
   "execution_count": 5,
   "id": "878bdacd",
   "metadata": {},
   "outputs": [],
   "source": [
    "import os\n",
    "import hashlib\n",
    "import numpy as np"
   ]
  },
  {
   "cell_type": "code",
   "execution_count": 6,
   "id": "4ebd8859",
   "metadata": {},
   "outputs": [],
   "source": [
    "path = '/Users/ianpile/Downloads/101_ObjectCategories'"
   ]
  },
  {
   "cell_type": "code",
   "execution_count": 7,
   "id": "c5e9fe17",
   "metadata": {},
   "outputs": [],
   "source": [
    "#Ищем картинки\n",
    "extensions = ['.jpg', '.JPG', '.jpeg', '.JPEG', '.png', '.PNG']\n",
    "def get_file_list(root_dir):\n",
    "    file_list = []\n",
    "    counter = 1\n",
    "    for root, directories, filenames in os.walk(root_dir):\n",
    "        for filename in filenames:\n",
    "            if any(ext in filename for ext in extensions):\n",
    "                file_list.append(os.path.join(root, filename))\n",
    "                counter += 1\n",
    "    return file_list"
   ]
  },
  {
   "cell_type": "code",
   "execution_count": 9,
   "id": "d6be698a",
   "metadata": {},
   "outputs": [],
   "source": [
    "filenames = sorted(get_file_list(path))"
   ]
  },
  {
   "cell_type": "markdown",
   "id": "eec5c841",
   "metadata": {},
   "source": [
    "Выберите 2000 случайных фотографий, перемешайте их названия, захешировав. Например так:"
   ]
  },
  {
   "cell_type": "code",
   "execution_count": 34,
   "id": "1d2219f5",
   "metadata": {},
   "outputs": [],
   "source": [
    "random2000 = np.random.choice(filenames, 2000)\n",
    "\n",
    "def random_hash_name(filename):\n",
    "    return hashlib.md5((filename+str(np.random.random())).encode('utf-8')).hexdigest()+'.jpg'"
   ]
  },
  {
   "cell_type": "code",
   "execution_count": 35,
   "id": "6c015938",
   "metadata": {},
   "outputs": [
    {
     "data": {
      "text/plain": [
       "'12091fab772c9683e8d80192fd0600f8.jpg'"
      ]
     },
     "execution_count": 35,
     "metadata": {},
     "output_type": "execute_result"
    }
   ],
   "source": [
    "random_hash_name(random2000[0])"
   ]
  },
  {
   "cell_type": "markdown",
   "id": "92b3e187",
   "metadata": {},
   "source": [
    "Пересохраните выбранные 2000 фотографий в соседнюю папку с новыми именами. а теперь задание:\n",
    "    \n",
    "1) Используя знания об ANN или любой другой удобный вам подход, восстановите соответствие между названием исходной фотографии и переименованной\n",
    "\n",
    "2) Проверьте качество восстановления\n",
    "\n",
    "3) С каким качеством получится восстановить соответствие, если каждую фотографию после запуска процедуры немного \"испортить\", например, добавить в нее случайный \"шум\", но так чтобы картинку все еще можно было легко узнать, или запустить на ней SVD и выбрать столько главных компонент, чтобы картинка была хорошо узнаваема? \n",
    "\n",
    "4) Проверьте качество восстановления на зашумленных любым способом данных\n",
    "\n"
   ]
  },
  {
   "cell_type": "code",
   "execution_count": null,
   "id": "1a44d125",
   "metadata": {},
   "outputs": [],
   "source": []
  },
  {
   "cell_type": "markdown",
   "id": "b90aa55e",
   "metadata": {},
   "source": [
    "# Реализация Любой версии LogLog :)\n",
    "\n",
    "Некоторое время назад мы обсуждали с вами реализацию алгоритмов семейства LogLog, где для расчета кардинальности множества подсчитывалось количество ведущих нулей в hash'е от элемента, а дальше на основании максимального кол-ва нулей, которое мы в множестве увидели, подсчитывалось количество элементов.\n",
    "\n",
    "Далее товарищ Флажоле придумал это делать несколько раз и усреднять.\n",
    "\n",
    "Как ведущие нули посчитать, можно [нагуглить](https://stackoverflow.com/questions/71888646/counting-the-number-of-leading-zero-bits-in-a-sha256-encrpytion)\n",
    "\n",
    "Задание: реализуйте любой из алгоритмов семейства LogLog и оцените его"
   ]
  }
 ],
 "metadata": {
  "kernelspec": {
   "display_name": "Python 3 (ipykernel)",
   "language": "python",
   "name": "python3"
  },
  "language_info": {
   "codemirror_mode": {
    "name": "ipython",
    "version": 3
   },
   "file_extension": ".py",
   "mimetype": "text/x-python",
   "name": "python",
   "nbconvert_exporter": "python",
   "pygments_lexer": "ipython3",
   "version": "3.11.8"
  }
 },
 "nbformat": 4,
 "nbformat_minor": 5
}
